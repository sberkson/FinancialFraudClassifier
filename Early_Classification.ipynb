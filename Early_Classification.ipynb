{
 "cells": [
  {
   "cell_type": "code",
   "execution_count": 102,
   "metadata": {},
   "outputs": [],
   "source": [
    "from mysklearn import myclassifiers, myevaluation, mypytable, myutils\n",
    "import importlib"
   ]
  },
  {
   "cell_type": "code",
   "execution_count": 103,
   "metadata": {},
   "outputs": [
    {
     "name": "stdout",
     "output_type": "stream",
     "text": [
      "['step', 'type', 'amount', 'nameOrig', 'oldbalanceOrg', 'newbalanceOrig', 'nameDest', 'oldbalanceDest', 'newbalanceDest', 'isFraud', 'isFlaggedFraud']\n",
      "[241.0, 'CASH_OUT', 325470.07, 'C570536992', 325470.07, 0.0, 'C437423112', 19771.15, 345241.22, 1.0, 0.0]\n",
      "[325470.07, 1.0]\n",
      "['amount', 'isFraud']\n"
     ]
    }
   ],
   "source": [
    "importlib.reload(mypytable)\n",
    "# first we are going to import the dataset into a mypytable object\n",
    "mytable = mypytable.MyPyTable()\n",
    "mytable.load_from_file(\"Fraud_chop.csv\")\n",
    "\n",
    "print(mytable.column_names)\n",
    "\n",
    "print(mytable.data[0])\n",
    "\n",
    "# we know from my datachoping notebook what each column is and does, so for this example we are going to \n",
    "# ignore nameOrig (index of 3) nameDest (index of 6)\n",
    "# we will also be dropping isFlaggedFraud (index of -1)\n",
    "mytable.drop_cols(['step','type','nameOrig', 'oldbalanceOrg', 'newbalanceOrig', 'nameDest', 'oldbalanceDest', 'newbalanceDest', 'isFlaggedFraud'])\n",
    "\n",
    "print(mytable.data[0])\n",
    "print(mytable.column_names)\n"
   ]
  },
  {
   "cell_type": "code",
   "execution_count": 104,
   "metadata": {},
   "outputs": [
    {
     "name": "stdout",
     "output_type": "stream",
     "text": [
      "1642\n",
      "1642\n"
     ]
    }
   ],
   "source": [
    "data = mytable.data\n",
    "headers = mytable.column_names\n",
    "\n",
    "# we also will make x and y\n",
    "X = []\n",
    "y = []\n",
    "for row in data:\n",
    "    X.append(row[0:len(row)-1])\n",
    "    y.append(row[-1])\n",
    "print(len(y))\n",
    "print(len(X))"
   ]
  },
  {
   "cell_type": "code",
   "execution_count": 105,
   "metadata": {},
   "outputs": [],
   "source": [
    "X_train_folds_indexes, X_test_folds_indexes = myevaluation.kfold_cross_validation(X,13)\n",
    "\n",
    "X_test_folds,X_train_folds,y_test_folds,y_train_folds = myutils.indexes_to_fold(X_test_folds_indexes, X_train_folds_indexes, X, y)\n",
    "X_test,X_train,y_test,y_train = myutils.folds_to_train_test(X_test_folds,X_train_folds,y_test_folds,y_train_folds)"
   ]
  },
  {
   "cell_type": "code",
   "execution_count": 106,
   "metadata": {},
   "outputs": [],
   "source": [
    "dummy_clf = myclassifiers.MyDummyClassifier()\n",
    "dummy_clf.fit(X_train, y_train)\n",
    "dummy_Y_predicted = dummy_clf.predict(X_test)\n"
   ]
  },
  {
   "cell_type": "code",
   "execution_count": 107,
   "metadata": {},
   "outputs": [
    {
     "name": "stdout",
     "output_type": "stream",
     "text": [
      "Dummy accuracy: 0.5006090133982948\n",
      "Dummy Binary F1: 0\n",
      "Dummy Binary precision: 0\n",
      "Dummy Binary recall: 0\n"
     ]
    }
   ],
   "source": [
    "dummy_accuracy = myevaluation.accuracy_score(y_test, dummy_Y_predicted)\n",
    "dummy_BinaryF1 = myevaluation.binary_f1_score(y_test, dummy_Y_predicted)\n",
    "dummy_Binary_precision = myevaluation.binary_precision_score(y_test, dummy_Y_predicted)\n",
    "dummy_Binary_recall = myevaluation.binary_recall_score(y_test, dummy_Y_predicted)\n",
    "\n",
    "print(\"Dummy accuracy:\", dummy_accuracy)\n",
    "print(\"Dummy Binary F1:\", dummy_BinaryF1)\n",
    "print(\"Dummy Binary precision:\", dummy_Binary_precision)\n",
    "print(\"Dummy Binary recall:\", dummy_Binary_recall)"
   ]
  },
  {
   "cell_type": "code",
   "execution_count": 108,
   "metadata": {},
   "outputs": [],
   "source": [
    "NaiveBayes_clf = myclassifiers.MyNaiveBayesClassifier()\n",
    "NaiveBayes_clf.fit(X_train, y_train)\n",
    "NaiveBayes_Y_predicted = NaiveBayes_clf.predict(X_test)"
   ]
  },
  {
   "cell_type": "code",
   "execution_count": 109,
   "metadata": {},
   "outputs": [
    {
     "name": "stdout",
     "output_type": "stream",
     "text": [
      "Naive Bayes accuracy: 0.5006090133982948\n",
      "Naive Bayes Binary F1: 0\n",
      "Naive Bayes Binary precision: 0\n",
      "Naive Bayes Binary recall: 0\n"
     ]
    }
   ],
   "source": [
    "NB_accuracy = myevaluation.accuracy_score(y_test, NaiveBayes_Y_predicted, normalize=True)\n",
    "NB_BinaryF1 = myevaluation.binary_f1_score(y_test, NaiveBayes_Y_predicted)\n",
    "NB_Binary_precision = myevaluation.binary_precision_score(y_test, NaiveBayes_Y_predicted)\n",
    "NB_Binary_recall = myevaluation.binary_recall_score(y_test, NaiveBayes_Y_predicted)\n",
    "\n",
    "print(\"Naive Bayes accuracy:\", NB_accuracy)\n",
    "print(\"Naive Bayes Binary F1:\", NB_BinaryF1)\n",
    "print(\"Naive Bayes Binary precision:\", NB_Binary_precision)\n",
    "print(\"Naive Bayes Binary recall:\", NB_Binary_recall)"
   ]
  },
  {
   "cell_type": "code",
   "execution_count": 110,
   "metadata": {},
   "outputs": [],
   "source": [
    "tree_clf = myclassifiers.MyDecisionTreeClassifier()\n",
    "tree_clf.fit(X_train, y_train)\n",
    "tree_Y_predicted = tree_clf.predict(X_test)"
   ]
  },
  {
   "cell_type": "code",
   "execution_count": 111,
   "metadata": {},
   "outputs": [
    {
     "name": "stdout",
     "output_type": "stream",
     "text": [
      "Decision Tree accuracy: 1.0\n",
      "Decision Tree Binary F1: 1.0\n",
      "Decision Tree Binary precision: 1.0\n",
      "Decision Tree Binary recall: 1.0\n"
     ]
    }
   ],
   "source": [
    "tree_accuracy = myevaluation.accuracy_score(y_test, tree_Y_predicted, normalize=True)\n",
    "tree_BinaryF1 = myevaluation.binary_f1_score(y_test, tree_Y_predicted)\n",
    "tree_Binary_precision = myevaluation.binary_precision_score(y_test, tree_Y_predicted)\n",
    "tree_Binary_recall = myevaluation.binary_recall_score(y_test, tree_Y_predicted)\n",
    "\n",
    "print(\"Decision Tree accuracy:\", tree_accuracy)\n",
    "print(\"Decision Tree Binary F1:\", tree_BinaryF1)\n",
    "print(\"Decision Tree Binary precision:\", tree_Binary_precision)\n",
    "print(\"Decision Tree Binary recall:\", tree_Binary_recall)"
   ]
  },
  {
   "cell_type": "code",
   "execution_count": 112,
   "metadata": {},
   "outputs": [
    {
     "name": "stdout",
     "output_type": "stream",
     "text": [
      "[[325470.07], [223730.4], [1191183.65], [6512846.44], [251832.96], [1773151.32], [346183.99], [376367.26], [40486.25], [1638865.05]]\n"
     ]
    }
   ],
   "source": [
    "print(X[:10])"
   ]
  },
  {
   "cell_type": "code",
   "execution_count": 113,
   "metadata": {},
   "outputs": [],
   "source": [
    "reg_clf = myclassifiers.MySimpleLinearRegressor()\n",
    "reg_clf.fit(X_train, y_train)\n",
    "reg_y_predicted = reg_clf.predict(X_test)"
   ]
  },
  {
   "cell_type": "code",
   "execution_count": 115,
   "metadata": {},
   "outputs": [
    {
     "name": "stdout",
     "output_type": "stream",
     "text": [
      "Linear Regressor accuracy: 0.669305724725944\n",
      "Linear Regressor Binary F1: 0.7456674473067915\n",
      "Linear Regressor Binary precision: 0.6053231939163498\n",
      "Linear Regressor Binary recall: 0.9707317073170731\n"
     ]
    }
   ],
   "source": [
    "reg_y_predicted_rounded = []\n",
    "for val in reg_y_predicted:\n",
    "    reg_y_predicted_rounded.append(round(val))\n",
    "\n",
    "reg_accuracy = myevaluation.accuracy_score(y_test, reg_y_predicted_rounded)\n",
    "reg_BinaryF1 = myevaluation.binary_f1_score(y_test, reg_y_predicted_rounded)\n",
    "reg_Binary_precision = myevaluation.binary_precision_score(y_test, reg_y_predicted_rounded)\n",
    "reg_Binary_recall = myevaluation.binary_recall_score(y_test, reg_y_predicted_rounded)\n",
    "\n",
    "print(\"Linear Regressor accuracy:\", reg_accuracy)\n",
    "print(\"Linear Regressor Binary F1:\", reg_BinaryF1)\n",
    "print(\"Linear Regressor Binary precision:\", reg_Binary_precision)\n",
    "print(\"Linear Regressor Binary recall:\", reg_Binary_recall)"
   ]
  }
 ],
 "metadata": {
  "interpreter": {
   "hash": "5f8c5c8ab154ffd7b7cf769370d90abd279d12a3d937a702f83e9fc02204b3d3"
  },
  "kernelspec": {
   "display_name": "Python 3.9.12 ('base')",
   "language": "python",
   "name": "python3"
  },
  "language_info": {
   "codemirror_mode": {
    "name": "ipython",
    "version": 3
   },
   "file_extension": ".py",
   "mimetype": "text/x-python",
   "name": "python",
   "nbconvert_exporter": "python",
   "pygments_lexer": "ipython3",
   "version": "3.9.12"
  },
  "orig_nbformat": 4
 },
 "nbformat": 4,
 "nbformat_minor": 2
}
