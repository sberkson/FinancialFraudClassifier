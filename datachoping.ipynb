{
 "cells": [
  {
   "cell_type": "code",
   "execution_count": 1,
   "metadata": {},
   "outputs": [],
   "source": [
    "from mysklearn import mypytable \n",
    "import numpy as np\n",
    "np.random.seed(0)"
   ]
  },
  {
   "cell_type": "markdown",
   "metadata": {},
   "source": [
    "this is the file that im going to use to chop up the data  \n",
    "the datafile is over 6 million lines\n",
    "\n",
    "i want it to be less than 100k lines  \n",
    "while also being equally distributed  \n",
    "between the classes\n"
   ]
  },
  {
   "cell_type": "code",
   "execution_count": 2,
   "metadata": {},
   "outputs": [],
   "source": [
    "infile = open(\"Fraud.csv\", \"r\")\n",
    "contents = infile.readlines()\n",
    "infile.close()"
   ]
  },
  {
   "cell_type": "code",
   "execution_count": 3,
   "metadata": {},
   "outputs": [
    {
     "name": "stdout",
     "output_type": "stream",
     "text": [
      "6362621\n",
      "<class 'list'>\n",
      "['step', 'type', 'amount', 'nameOrig', 'oldbalanceOrg', 'newbalanceOrig', 'nameDest', 'oldbalanceDest', 'newbalanceDest', 'isFraud', 'isFlaggedFraud']\n"
     ]
    }
   ],
   "source": [
    "print(len(contents))\n",
    "print(type(contents))\n",
    "header = contents[0].split(\",\")\n",
    "header[-1] = header[-1].strip() # remove the newline (if it is there)\n",
    "print(header)"
   ]
  },
  {
   "cell_type": "markdown",
   "metadata": {},
   "source": [
    "the outputs are:\n",
    "* step: the hour since the start of the dataset (starts at 1, goes to 744)\n",
    "* type: {'PAYMENT', 'DEBIT', 'CASH_OUT', 'CASH_IN', 'TRANSFER'}\n",
    "* amount: the ammount\n",
    "* nameOrig: name\n",
    "* oldbalanceOrg: bal\n",
    "* newbalanceOrig: bal\n",
    "* nameDest: name\n",
    "* oldbalanceDest: bal (will be 0.0 if it is a payment, \n",
    "* newbalanceDest: bal (will be 0.0 if it is a payment, \n",
    "* isFraud: 0, 1\n",
    "* isFlaggedFraud: 0 1\n",
    "\n",
    "\n",
    "NOTE:\n",
    "* i will do the data cleaning (removing the unneeded cols) later"
   ]
  },
  {
   "cell_type": "code",
   "execution_count": 4,
   "metadata": {},
   "outputs": [],
   "source": [
    "# used while making this notebook\n",
    "\n",
    "# uniques = {}\n",
    "# for col in header:\n",
    "#     index = header.index(col)\n",
    "#     uniques[col] = set()\n",
    "#     for line in contents[1:]:\n",
    "#         line = line.split(\",\")\n",
    "#         line[-1] = line[-1].strip() # removing the newline character (if it is there)\n",
    "#         value = line[index].strip()\n",
    "#         if line[index] not in uniques[col]:\n",
    "#             uniques[col].add(value)\n",
    "# print(uniques[\"isFlaggedFraud\\n\"])"
   ]
  },
  {
   "cell_type": "code",
   "execution_count": 5,
   "metadata": {},
   "outputs": [],
   "source": [
    "data = []\n",
    "for line in contents[1:]:\n",
    "    line = line.split(\",\")\n",
    "    line[-1] = line[-1].strip() # removing the newline character (if it is there)\n",
    "    data.append(line)"
   ]
  },
  {
   "cell_type": "code",
   "execution_count": 6,
   "metadata": {},
   "outputs": [],
   "source": [
    "def get_occur(data):\n",
    "    fraud_occur = 0\n",
    "    legit_occur = 0\n",
    "    for line in data:\n",
    "        if line[-2] == \"1\":\n",
    "            fraud_occur += 1\n",
    "        else:\n",
    "            legit_occur += 1\n",
    "    return fraud_occur, legit_occur"
   ]
  },
  {
   "cell_type": "code",
   "execution_count": 7,
   "metadata": {},
   "outputs": [
    {
     "name": "stdout",
     "output_type": "stream",
     "text": [
      "There are 6354407 legal transactions\n",
      "There are 8213 fraudulent transactions\n",
      "773.7010836478753 ratio\n"
     ]
    }
   ],
   "source": [
    "fraud_occur, legit_occur = get_occur(data)\n",
    "print(\"There are\",legit_occur,\"legal transactions\")\n",
    "print(\"There are\",fraud_occur,\"fraudulent transactions\")\n",
    "print(legit_occur / fraud_occur, \"ratio\")"
   ]
  },
  {
   "cell_type": "markdown",
   "metadata": {},
   "source": [
    "We want to shrink the dataset size, while keeping the same ratio  \n",
    "also to make life easier, i will be rounding the ratio to be 774 : 1  \n",
    "\n",
    "For every 774 legal transactions, there is a fradulant transaction"
   ]
  },
  {
   "cell_type": "code",
   "execution_count": 8,
   "metadata": {},
   "outputs": [],
   "source": [
    "legal = []\n",
    "fraudulent = []\n",
    "for line in data:\n",
    "    if line[-2] == \"1\":\n",
    "        fraudulent.append(line)\n",
    "    else:\n",
    "        legal.append(line)\n",
    "\n",
    "# just double checking\n",
    "assert len(legal) + len(fraudulent) == len(data)\n",
    "assert len(legal) == legit_occur\n",
    "assert len(fraudulent) == fraud_occur"
   ]
  },
  {
   "cell_type": "code",
   "execution_count": 9,
   "metadata": {},
   "outputs": [
    {
     "name": "stdout",
     "output_type": "stream",
     "text": [
      "There are 387000 legal transactions\n",
      "There are 500 fraudulent transactions\n",
      "774.0 ratio\n"
     ]
    }
   ],
   "source": [
    "# becayse for every 774 legal transactions, there is a fraudulent transaction\n",
    "# we can have the dataset be however many fradulent lines we want, with that number times 774 legal ones\n",
    "\n",
    "new_data = []\n",
    "# num_fradulent = len(fraudulent) // 600\n",
    "num_fradulent = 500\n",
    "num_legal = num_fradulent * 774\n",
    "\n",
    "for i in range(num_fradulent):\n",
    "    # a faster, but not random way to do this\n",
    "    # rand_index = i\n",
    "    # new_data.append(fraudulent[rand_index])\n",
    "\n",
    "    # a slower, but random way to do thi\n",
    "    rand_index = np.random.randint(0, len(fraudulent))\n",
    "    new_data.append(fraudulent.pop(rand_index))\n",
    "for i in range(num_legal):\n",
    "    # a faster, but not random way to do this\n",
    "    # rand_index = i\n",
    "    # new_data.append(legal[rand_index])\n",
    "    \n",
    "    # a slower, but random way to do this\n",
    "    rand_index = np.random.randint(0, len(legal))\n",
    "    new_data.append(legal.pop(rand_index))\n",
    "\n",
    "fraud_occur, legit_occur = get_occur(new_data)\n",
    "print(\"There are\",legit_occur,\"legal transactions\")\n",
    "print(\"There are\",fraud_occur,\"fraudulent transactions\")\n",
    "print(legit_occur / fraud_occur, \"ratio\")"
   ]
  },
  {
   "cell_type": "code",
   "execution_count": 10,
   "metadata": {},
   "outputs": [],
   "source": [
    "table = mypytable.MyPyTable(column_names=header, data=new_data)\n",
    "table.save_to_file(\"Fraud_chop.csv\")"
   ]
  }
 ],
 "metadata": {
  "interpreter": {
   "hash": "5f8c5c8ab154ffd7b7cf769370d90abd279d12a3d937a702f83e9fc02204b3d3"
  },
  "kernelspec": {
   "display_name": "Python 3.9.12 ('base')",
   "language": "python",
   "name": "python3"
  },
  "language_info": {
   "codemirror_mode": {
    "name": "ipython",
    "version": 3
   },
   "file_extension": ".py",
   "mimetype": "text/x-python",
   "name": "python",
   "nbconvert_exporter": "python",
   "pygments_lexer": "ipython3",
   "version": "3.9.12"
  },
  "orig_nbformat": 4
 },
 "nbformat": 4,
 "nbformat_minor": 2
}
