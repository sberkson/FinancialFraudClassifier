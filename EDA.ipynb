{
 "cells": [
  {
   "cell_type": "code",
   "execution_count": 67,
   "metadata": {},
   "outputs": [],
   "source": [
    "import mysklearn.plot_utils as plot_utils\n",
    "from mysklearn import myclassifiers, myevaluation, mypytable\n",
    "\n",
    "table = mypytable.MyPyTable()\n",
    "table.load_from_file(\"Fraud_chop.csv\")\n",
    "\n",
    "oldBalanceOrg = table.get_column(\"oldbalanceOrg\")\n",
    "newBalanceOrig = table.get_column(\"newbalanceOrig\")\n",
    "isFraud = table.get_column(\"isFraud\")\n",
    "isFlaggedFraud = table.get_column(\"isFlaggedFraud\")\n",
    "oldBalanceDest = table.get_column(\"oldbalanceDest\")\n",
    "newBalanceDest = table.get_column(\"newbalanceDest\")\n",
    "amount = table.get_column(\"amount\")\n",
    "type = table.get_column(\"type\")"
   ]
  },
  {
   "cell_type": "code",
   "execution_count": 68,
   "metadata": {},
   "outputs": [],
   "source": [
    "isFlaggedFraudT = 0\n",
    "isFlaggedFraudF = 0\n",
    "isFraudT = 0\n",
    "isFraudF = 0\n",
    "\n",
    "for index, value in enumerate(isFlaggedFraud):\n",
    "    if isFlaggedFraud[index] == 1:\n",
    "        isFlaggedFraudT += 1\n",
    "    else:\n",
    "        isFlaggedFraudF += 1\n",
    "        \n",
    "    if isFraud[index] == 1:\n",
    "        isFraudT += 1\n",
    "    else:\n",
    "        isFraudF += 1\n"
   ]
  },
  {
   "cell_type": "code",
   "execution_count": 69,
   "metadata": {},
   "outputs": [],
   "source": [
    "avgOrgBalance = sum(oldBalanceDest)/len(oldBalanceDest)\n",
    "avgNewBalance = sum(newBalanceDest)/len(newBalanceDest)\n",
    "difference = avgOrgBalance - avgNewBalance"
   ]
  },
  {
   "cell_type": "code",
   "execution_count": 70,
   "metadata": {},
   "outputs": [],
   "source": [
    "avgTransfer = sum(amount)/len(amount)"
   ]
  },
  {
   "cell_type": "code",
   "execution_count": 71,
   "metadata": {},
   "outputs": [
    {
     "name": "stdout",
     "output_type": "stream",
     "text": [
      "Number of fraudulent transactions: 500\n",
      "Number of non-fraudulent transactions: 387000\n",
      "Number of fraudulent transactions flagged: 1\n",
      "Number of non-fraudulent transactions flagged: 387499\n",
      "Average original balance: 1095109.9717420205\n",
      "Average new balance: 1217799.3835996126\n",
      "Difference between original and new balance: -122689.41185759217\n",
      "Average transfer amount: 178477.0397857767\n"
     ]
    }
   ],
   "source": [
    "print(\"Number of fraudulent transactions:\", isFraudT)\n",
    "print(\"Number of non-fraudulent transactions:\", isFraudF)\n",
    "print(\"Number of fraudulent transactions flagged:\", isFlaggedFraudT)\n",
    "print(\"Number of non-fraudulent transactions flagged:\", isFlaggedFraudF)\n",
    "print(\"Average original balance:\", avgOrgBalance)\n",
    "print(\"Average new balance:\", avgNewBalance)\n",
    "print(\"Difference between original and new balance:\", difference)\n",
    "print(\"Average transfer amount:\", avgTransfer)"
   ]
  },
  {
   "cell_type": "code",
   "execution_count": 73,
   "metadata": {},
   "outputs": [
    {
     "data": {
      "image/png": "[encoded data removed]",
      "text/plain": [
       "<Figure size 432x288 with 1 Axes>"
      ]
     },
     "metadata": {
      "needs_background": "light"
     },
     "output_type": "display_data"
    }
   ],
   "source": [
    "plot_utils.plot_histogram(type, \"Transaction Type\", \"Transaction Type Distribution\")"
   ]
  }
 ],
 "metadata": {
  "language_info": {
   "name": "python"
  },
  "orig_nbformat": 4
 },
 "nbformat": 4,
 "nbformat_minor": 2
}
