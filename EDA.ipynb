{
 "cells": [
  {
   "cell_type": "code",
   "execution_count": 23,
   "metadata": {},
   "outputs": [],
   "source": [
    "import mysklearn.plot_utils as plot_utils\n",
    "from mysklearn import myclassifiers, myevaluation, mypytable\n",
    "\n",
    "table = mypytable.MyPyTable()\n",
    "table.load_from_file(\"Fraud_chop.csv\")\n",
    "\n",
    "oldBalanceOrg = table.get_column(\"oldbalanceOrg\")\n",
    "newBalanceOrig = table.get_column(\"newbalanceOrig\")\n",
    "isFraud = table.get_column(\"isFraud\")\n",
    "isFlaggedFraud = table.get_column(\"isFlaggedFraud\")"
   ]
  }
 ],
 "metadata": {
  "interpreter": {
   "hash": "d4d1e4263499bec80672ea0156c357c1ee493ec2b1c70f0acce89fc37c4a6abe"
  },
  "kernelspec": {
   "display_name": "Python 3.9.7 ('base')",
   "language": "python",
   "name": "python3"
  },
  "language_info": {
   "codemirror_mode": {
    "name": "ipython",
    "version": 3
   },
   "file_extension": ".py",
   "mimetype": "text/x-python",
   "name": "python",
   "nbconvert_exporter": "python",
   "pygments_lexer": "ipython3",
   "version": "3.9.7"
  },
  "orig_nbformat": 4
 },
 "nbformat": 4,
 "nbformat_minor": 2
}
