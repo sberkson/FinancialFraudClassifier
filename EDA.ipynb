{
 "cells": [
  {
   "cell_type": "code",
   "execution_count": 14,
   "metadata": {},
   "outputs": [],
   "source": [
    "from mysklearn import myclassifiers, myevaluation, mypytable"
   ]
  },
  {
   "cell_type": "code",
   "execution_count": 15,
   "metadata": {},
   "outputs": [
    {
     "data": {
      "text/plain": [
       "<mysklearn.mypytable.MyPyTable at 0x179e293a0>"
      ]
     },
     "execution_count": 15,
     "metadata": {},
     "output_type": "execute_result"
    }
   ],
   "source": [
    "# first we are going to import the dataset into a mypytable object\n",
    "mytable = mypytable.MyPyTable()\n",
    "mytable.load_from_file(\"Fraud_chop.csv\")"
   ]
  },
  {
   "cell_type": "code",
   "execution_count": 16,
   "metadata": {},
   "outputs": [
    {
     "name": "stdout",
     "output_type": "stream",
     "text": [
      "['step', 'type', 'amount', 'oldbalanceOrg', 'newbalanceOrig', 'oldbalanceDest', 'newbalanceDest', 'isFraud']\n"
     ]
    }
   ],
   "source": [
    "# we know from my datachoping notebook what each column is and does, so for this example we are going to \n",
    "# ignore nameOrig (index of 3) nameDest (index of 6)\n",
    "# we will also be dropping isFlaggedFraud (index of -1)\n",
    "data = []\n",
    "for row in mytable.data:\n",
    "    row = []\n",
    "    for i in range(len(mytable.data[0]) -1): # not using the last one\n",
    "        if i != 3 and i != 6:\n",
    "            row.append(mytable.data[0][i])\n",
    "    data.append(row)\n",
    "headers = []\n",
    "for i in range(len(mytable.data[0]) -1): # not using the last one\n",
    "    if i != 3 and i != 6:\n",
    "        headers.append(mytable.column_names[i])\n",
    "print(headers)"
   ]
  },
  {
   "cell_type": "code",
   "execution_count": 17,
   "metadata": {},
   "outputs": [
    {
     "name": "stdout",
     "output_type": "stream",
     "text": [
      "387500\n",
      "387500\n"
     ]
    }
   ],
   "source": [
    "# we also will make x and y\n",
    "X = []\n",
    "y = []\n",
    "for row in data:\n",
    "    X.append(row[0:len(row)-1])\n",
    "    y.append(row[-1])\n",
    "print(len(y))\n",
    "print(len(X))"
   ]
  },
  {
   "cell_type": "code",
   "execution_count": 20,
   "metadata": {},
   "outputs": [],
   "source": [
    "import mysklearn.plot_utils as plot_utils\n",
    "\n",
    "# it would be easier if we made a new mypytable object\n",
    "# for use in graphing\n",
    "\n",
    "new_table = mypytable.MyPyTable(data, headers)"
   ]
  }
 ],
 "metadata": {
  "interpreter": {
   "hash": "5f8c5c8ab154ffd7b7cf769370d90abd279d12a3d937a702f83e9fc02204b3d3"
  },
  "kernelspec": {
   "display_name": "Python 3.9.12 ('base')",
   "language": "python",
   "name": "python3"
  },
  "language_info": {
   "codemirror_mode": {
    "name": "ipython",
    "version": 3
   },
   "file_extension": ".py",
   "mimetype": "text/x-python",
   "name": "python",
   "nbconvert_exporter": "python",
   "pygments_lexer": "ipython3",
   "version": "3.9.12"
  },
  "orig_nbformat": 4
 },
 "nbformat": 4,
 "nbformat_minor": 2
}
