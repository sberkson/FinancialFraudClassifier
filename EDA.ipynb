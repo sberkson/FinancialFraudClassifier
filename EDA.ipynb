{
 "cells": [
  {
   "cell_type": "markdown",
   "metadata": {},
   "source": [
    "## Financial Fraud Classifier\n",
    "#### Sam Berkson and Ben Puryear\n",
    "#### CPSC 322 Final Project"
   ]
  },
  {
   "cell_type": "markdown",
   "metadata": {},
   "source": [
    "#### Data Preparation\n",
    "First, we need to read in our dataset into our MyPyTable object."
   ]
  },
  {
   "cell_type": "code",
   "execution_count": 48,
   "metadata": {},
   "outputs": [
    {
     "data": {
      "text/plain": [
       "<mysklearn.mypytable.MyPyTable at 0x7ff656c89700>"
      ]
     },
     "execution_count": 48,
     "metadata": {},
     "output_type": "execute_result"
    }
   ],
   "source": [
    "import mysklearn.plot_utils as plot_utils\n",
    "from mysklearn import myclassifiers, myevaluation, mypytable\n",
    "\n",
    "table = mypytable.MyPyTable()\n",
    "table.load_from_file(\"input_data/Fraud_chop.csv\")\n"
   ]
  },
  {
   "cell_type": "markdown",
   "metadata": {},
   "source": [
    "Next, we grab each column and put them into lists to be used throughout our EDA."
   ]
  },
  {
   "cell_type": "code",
   "execution_count": 49,
   "metadata": {},
   "outputs": [],
   "source": [
    "\n",
    "oldBalanceOrg = table.get_column(\"oldbalanceOrg\")\n",
    "newBalanceOrig = table.get_column(\"newbalanceOrig\")\n",
    "isFraud = table.get_column(\"isFraud\")\n",
    "isFlaggedFraud = table.get_column(\"isFlaggedFraud\")\n",
    "oldBalanceDest = table.get_column(\"oldbalanceDest\")\n",
    "newBalanceDest = table.get_column(\"newbalanceDest\")\n",
    "amount = table.get_column(\"amount\")\n",
    "type = table.get_column(\"type\")"
   ]
  },
  {
   "cell_type": "markdown",
   "metadata": {},
   "source": [
    "After getting all of our columns, we wanted to get more familiar with our attributes and any potential relationships between them.  To do this, "
   ]
  },
  {
   "cell_type": "markdown",
   "metadata": {},
   "source": [
    "Next, we wanted to evaluate the performance of the dataset's creator's classifier (isFlaggedFraud).  To do this, we find the number of transactions that were flagged as fradulent (while the remainder of instances are not flagged as fradulent).  Since we have an equal class distribution and a fixed number of instances, we can use these to evaluate the performance of the dataset's classifier."
   ]
  },
  {
   "cell_type": "code",
   "execution_count": 50,
   "metadata": {},
   "outputs": [
    {
     "name": "stdout",
     "output_type": "stream",
     "text": [
      "isFlaggedFraudT: 3\n",
      "isFlaggedFraudF: 1639\n",
      "isFraudT: 821\n",
      "isFraudF: 821\n",
      "Percentage of instances flagged as fradulent:  0.18270401948842874 %\n",
      "Number of instances correctly predicted:  824\n",
      "Number of instances incorrectly predicted:  818\n",
      "Accuracy:  50.18270401948843\n"
     ]
    }
   ],
   "source": [
    "isFlaggedFraudT = 0\n",
    "isFlaggedFraudF = 0\n",
    "isFraudT = 0\n",
    "isFraudF = 0\n",
    "correctlyPredicted = 0\n",
    "incorrectlyPredicted = 0\n",
    "\n",
    "for index, value in enumerate(isFlaggedFraud):\n",
    "    if isFlaggedFraud[index] == 1:\n",
    "        isFlaggedFraudT += 1\n",
    "    else:\n",
    "        isFlaggedFraudF += 1\n",
    "        \n",
    "    if isFraud[index] == 1:\n",
    "        isFraudT += 1\n",
    "    else:\n",
    "        isFraudF += 1\n",
    "\n",
    "    if isFlaggedFraud[index] == 1 and isFraud[index] == 1:\n",
    "        correctlyPredicted += 1\n",
    "    elif isFlaggedFraud[index] == 0 and isFraud[index] == 0:\n",
    "        correctlyPredicted += 1\n",
    "    else:\n",
    "        incorrectlyPredicted += 1\n",
    "\n",
    "flagPercentage = (100 / 1642) * isFlaggedFraudT    \n",
    "print(\"isFlaggedFraudT:\", isFlaggedFraudT)\n",
    "print(\"isFlaggedFraudF:\", isFlaggedFraudF)\n",
    "print(\"isFraudT:\", isFraudT)\n",
    "print(\"isFraudF:\", isFraudF)\n",
    "print(\"Percentage of instances flagged as fradulent: \", flagPercentage, \"%\")\n",
    "print(\"Number of instances correctly predicted: \", correctlyPredicted)\n",
    "print(\"Number of instances incorrectly predicted: \", incorrectlyPredicted)\n",
    "print(\"Accuracy: \", (100 / 1642) * correctlyPredicted)"
   ]
  },
  {
   "cell_type": "code",
   "execution_count": 51,
   "metadata": {},
   "outputs": [
    {
     "name": "stdout",
     "output_type": "stream",
     "text": [
      "avgOrgBalance: $ 833508.1312484784\n",
      "avgNewBalance: $ 1304552.5530755178\n",
      "Average difference: $ -471044.42182703933\n"
     ]
    }
   ],
   "source": [
    "avgOrgBalance = sum(oldBalanceDest)/len(oldBalanceDest)\n",
    "avgNewBalance = sum(newBalanceDest)/len(newBalanceDest)\n",
    "difference = avgOrgBalance - avgNewBalance\n",
    "\n",
    "print(\"avgOrgBalance: $\", avgOrgBalance)\n",
    "print(\"avgNewBalance: $\", avgNewBalance)\n",
    "print(\"Average difference: $\", difference)"
   ]
  },
  {
   "cell_type": "code",
   "execution_count": 52,
   "metadata": {},
   "outputs": [
    {
     "name": "stdout",
     "output_type": "stream",
     "text": [
      "Average transfer: $ 843594.1616077956\n"
     ]
    }
   ],
   "source": [
    "avgTransfer = sum(amount)/len(amount)\n",
    "print(\"Average transfer: $\", avgTransfer)"
   ]
  },
  {
   "cell_type": "code",
   "execution_count": 53,
   "metadata": {},
   "outputs": [],
   "source": [
    "uniqueTypes = []\n",
    "for index, value in enumerate(type):\n",
    "    if value not in uniqueTypes:\n",
    "        uniqueTypes.append(value)"
   ]
  },
  {
   "cell_type": "code",
   "execution_count": 54,
   "metadata": {},
   "outputs": [
    {
     "name": "stdout",
     "output_type": "stream",
     "text": [
      "Number of instances:  1642\n",
      "Number of fraudulent transactions: 821\n",
      "Number of non-fraudulent transactions: 821\n",
      "Number of fraudulent transactions flagged: 3\n",
      "Number of non-fraudulent transactions flagged: 1639\n",
      "Average original balance: 833508.1312484784\n",
      "Average new balance: 1304552.5530755178\n",
      "Difference between original and new balance: -471044.42182703933\n",
      "Average transfer amount: 843594.1616077956\n",
      "Number of transaction types: 5\n"
     ]
    }
   ],
   "source": [
    "print(\"Number of instances: \", isFraudT + isFraudF)\n",
    "print(\"Number of fraudulent transactions:\", isFraudT)\n",
    "print(\"Number of non-fraudulent transactions:\", isFraudF)\n",
    "print(\"Number of fraudulent transactions flagged:\", isFlaggedFraudT)\n",
    "print(\"Number of non-fraudulent transactions flagged:\", isFlaggedFraudF)\n",
    "print(\"Average original balance:\", avgOrgBalance)\n",
    "print(\"Average new balance:\", avgNewBalance)\n",
    "print(\"Difference between original and new balance:\", difference)\n",
    "print(\"Average transfer amount:\", avgTransfer)\n",
    "print(\"Number of transaction types:\", len(uniqueTypes))"
   ]
  },
  {
   "cell_type": "code",
   "execution_count": 55,
   "metadata": {},
   "outputs": [
    {
     "data": {
      "image/png": "[encoded data removed]",
      "text/plain": [
       "<Figure size 432x288 with 1 Axes>"
      ]
     },
     "metadata": {
      "needs_background": "light"
     },
     "output_type": "display_data"
    },
    {
     "data": {
      "image/png": "[encoded data removed]",
      "text/plain": [
       "<Figure size 432x288 with 1 Axes>"
      ]
     },
     "metadata": {
      "needs_background": "light"
     },
     "output_type": "display_data"
    },
    {
     "data": {
      "image/png": "[encoded data removed]",
      "text/plain": [
       "<Figure size 432x288 with 1 Axes>"
      ]
     },
     "metadata": {
      "needs_background": "light"
     },
     "output_type": "display_data"
    }
   ],
   "source": [
    "plot_utils.plot_histogram(type, \"Transaction Type\", \"Transaction Type Distribution\")\n",
    "\n",
    "# Group transaction types by whether they are fradulent or not\n",
    "fraudTypes = []\n",
    "nonFraudTypes = []\n",
    "for index, value in enumerate(type):\n",
    "    if isFraud[index] == 1:\n",
    "        fraudTypes.append(value)\n",
    "    else:\n",
    "        nonFraudTypes.append(value)\n",
    "\n",
    "# Plot the distribution of fraudulent and non-fraudulent transaction types\n",
    "plot_utils.plot_histogram(fraudTypes, \"Fraudulent Transaction Types\", \"Fraudulent Transaction Types Distribution\")\n",
    "plot_utils.plot_histogram(nonFraudTypes, \"Non-Fraudulent Transaction Types\", \"Non-Fraudulent Transaction Types Distribution\")"
   ]
  },
  {
   "cell_type": "code",
   "execution_count": 56,
   "metadata": {},
   "outputs": [
    {
     "data": {
      "image/png": "[encoded data removed]",
      "text/plain": [
       "<Figure size 432x288 with 1 Axes>"
      ]
     },
     "metadata": {
      "needs_background": "light"
     },
     "output_type": "display_data"
    },
    {
     "data": {
      "image/png": "[encoded data removed]",
      "text/plain": [
       "<Figure size 432x288 with 1 Axes>"
      ]
     },
     "metadata": {
      "needs_background": "light"
     },
     "output_type": "display_data"
    }
   ],
   "source": [
    "# Group transaction types by whether they are flagged fraudulent or not\n",
    "fraudFlaggedTypes = []\n",
    "nonFraudFlaggedTypes = []\n",
    "for index, value in enumerate(type):\n",
    "    if isFlaggedFraud[index] == 1:\n",
    "        fraudFlaggedTypes.append(value)\n",
    "    else:\n",
    "        nonFraudFlaggedTypes.append(value)\n",
    "\n",
    "plot_utils.plot_histogram(fraudFlaggedTypes, \"Fraudulent Transaction Types Flagged\", \"Fraudulent Transaction Types Flagged Distribution\")\n",
    "plot_utils.plot_histogram(nonFraudFlaggedTypes, \"Non-Fraudulent Transaction Types Flagged\", \"Non-Fraudulent Transaction Types Flagged Distribution\")"
   ]
  },
  {
   "cell_type": "code",
   "execution_count": 57,
   "metadata": {},
   "outputs": [],
   "source": [
    "# Group by transaction type\n",
    "typesCounts = [[uniqueTypes], []]\n",
    "\n",
    "    \n",
    "\n"
   ]
  },
  {
   "cell_type": "code",
   "execution_count": null,
   "metadata": {},
   "outputs": [],
   "source": []
  }
 ],
 "metadata": {
  "interpreter": {
   "hash": "d4d1e4263499bec80672ea0156c357c1ee493ec2b1c70f0acce89fc37c4a6abe"
  },
  "kernelspec": {
   "display_name": "Python 3.9.7 ('base')",
   "language": "python",
   "name": "python3"
  },
  "language_info": {
   "codemirror_mode": {
    "name": "ipython",
    "version": 3
   },
   "file_extension": ".py",
   "mimetype": "text/x-python",
   "name": "python",
   "nbconvert_exporter": "python",
   "pygments_lexer": "ipython3",
   "version": "3.9.7"
  },
  "orig_nbformat": 4
 },
 "nbformat": 4,
 "nbformat_minor": 2
}
