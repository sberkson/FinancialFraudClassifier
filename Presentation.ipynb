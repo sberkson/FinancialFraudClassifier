{
 "cells": [
  {
   "cell_type": "markdown",
   "metadata": {},
   "source": [
    "## Financial Fraud Classifier\n",
    "#### Sam Berkson and Ben Puryear\n",
    "#### CPSC 322 Final Project"
   ]
  },
  {
   "cell_type": "code",
   "execution_count": null,
   "metadata": {},
   "outputs": [],
   "source": [
    "from mysklearn import myclassifiers, myevaluation, mypytable, myutils\n",
    "import importlib"
   ]
  },
  {
   "cell_type": "markdown",
   "metadata": {},
   "source": [
    "### Introduction)  \n",
    "    * Why are we doing this in the first place?\n",
    "        * Lots of real life applications:\n",
    "            * Banking\n",
    "            * Cyber Security\n",
    "            * Data Science\n",
    "\n",
    "\n",
    "![image](Unknown.jpeg)\n",
    "\n",
    "    * Dataset\n",
    "        * Our dataset originates from Kaggle, coming packaged as a csv file.  This csv file contains just over a million instances of different types of financial transactions from different accounts, and marks whether or not the transaction was flagged as fradulent or not, and whether or not the transaction was actually fradulent.  Our dataset contains 11 attributes:\n",
    "\n",
    "        * step\n",
    "            * Step maps to a number of hours, where 1 step is 1 hour.\n",
    "        * type\n",
    "            * This identifies the type of transaction.  It can be: CASH-IN; CASH-OUT; DEBIT; PAYMENT; and TRANSFER.\n",
    "            * This could be a pretty useful attribute to use in classification.\n",
    "        * amount\n",
    "            * This is the amount of money transferred (in the local currency).\n",
    "            * This can also be a pretty useful attribute to use in our classification.\n",
    "        * nameOrig\n",
    "            * This identifies the customer who initiated the transaction.\n",
    "        * oldBalanceOrg\n",
    "            * This is the initial balance before the transaction.\n",
    "        * newBalanceOrig\n",
    "            * This is the new balance after the transaction.\n",
    "        * nameDest\n",
    "            * This identifies the recipient of the transfer.\n",
    "        * oldBalanceDest\n",
    "            * This is the initial balance recipient before the transaction.\n",
    "        * newBalanceDest\n",
    "            * This is the new balance recipient after the transaction.\n",
    "            * This can be a useful tool for classification when used in comparison to oldBalanceDest for any given instance.\n",
    "        * isFraud\n",
    "            * This is the transactions made by the fraudulent agents inside the simulation. In this specific dataset the fraudulent behavior of the agents aims to profit by taking control or customers accounts and try to empty the funds by transferring to another account and then cashing out of the system.\n",
    "        * isFlaggedFraud\n",
    "            * The business model aims to control massive transfers from one account to another and flags illegal attempts. An illegal attempt in this dataset is an attempt to transfer more than 200.000 in a single transaction.\n",
    "\n",
    "Our classification goal is to correctly predict whether any given transaction is fradulent or not."
   ]
  },
  {
   "cell_type": "markdown",
   "metadata": {},
   "source": [
    "### EDA)"
   ]
  },
  {
   "cell_type": "markdown",
   "metadata": {},
   "source": [
    "### Classification)"
   ]
  },
  {
   "cell_type": "markdown",
   "metadata": {},
   "source": [
    "### Conclusion)"
   ]
  }
 ],
 "metadata": {
  "interpreter": {
   "hash": "d4d1e4263499bec80672ea0156c357c1ee493ec2b1c70f0acce89fc37c4a6abe"
  },
  "kernelspec": {
   "display_name": "Python 3.9.12 ('base')",
   "language": "python",
   "name": "python3"
  },
  "language_info": {
   "name": "python",
   "version": "3.9.7"
  },
  "orig_nbformat": 4
 },
 "nbformat": 4,
 "nbformat_minor": 2
}
