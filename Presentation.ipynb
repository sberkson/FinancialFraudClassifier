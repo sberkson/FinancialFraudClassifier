{
 "cells": [
  {
   "cell_type": "markdown",
   "metadata": {},
   "source": [
    "## Financial Fraud Classifier\n",
    "#### Sam Berkson and Ben Puryear\n",
    "#### CPSC 322 Final Project"
   ]
  },
  {
   "cell_type": "code",
   "execution_count": 3,
   "metadata": {},
   "outputs": [],
   "source": [
    "from mysklearn import myclassifiers, myevaluation, mypytable, myutils\n",
    "import importlib"
   ]
  },
  {
   "cell_type": "markdown",
   "metadata": {},
   "source": [
    "### Introduction)  \n",
    "\n",
    "* Why are we doing this in the first place?\n",
    "    * The potential impact of our results are pretty intuitive.  Automated fraud detection systems have massive applications for both businesses as well as financial institutions.  A system like this could be used to stop fradulent activies, and help identify the perpetrators of financial crimes.  A system like ours would likely affect the following stakeholders:\n",
    "    * Consumers\n",
    "        * Consumer's financial assets gain increased security, and helps to increase trust in modern financial institutions which can help stimulate economic growth.\n",
    "    * Businesses\n",
    "        * Businesses can save needless expense by ensuring that they are not the victims of fradulent transactions out of company accounts, or the victims of fradulent orders.\n",
    "    * Financial Institutions\n",
    "        * Banks can automate the task of consumer protection, allowing them greater resources to pursue recovery of funds through all available avenues.\n",
    "    * Regulatory Agencies\n",
    "        * Regulatory agencies can work with financial institutions to share identifying information regarding fradulent transactions, and use this information to pursue recovery of funds through a variety of methods.  One cool method is through appoint a receiver to recover and equitably dispense recovered funds among secured and unsecured creditors, which Sam just so happens to do for work over the summer!\n",
    "    * Financial Criminals\n",
    "        * This gang isnt so lucky.  Criminals only gain determent from committing felonies and robbing consumers and instituions of their assets.\n",
    "\n",
    "    * Personal interest:\n",
    "        * Sam works with financial fraud on a daily basis for work\n",
    "\n",
    "![image](media/saftey.jpeg)\n",
    "\n",
    "* Dataset\n",
    "    * Our dataset originates from Kaggle, coming packaged as a csv file.  This csv file contains just over a million instances of different types of financial transactions from different accounts, and marks whether or not the transaction was flagged as fradulent or not, and whether or not the transaction was actually fradulent.  Our dataset contains 11 attributes:\n",
    " \n",
    "    * step\n",
    "        * Step maps to a number of hours, where 1 step is 1 hour\n",
    "     * type\n",
    "        * This identifies the type of transaction.  It can be: CASH-IN; CASH-OUT; DEBIT; PAYMENT; and TRANSFER.\n",
    "        * This could be a pretty useful attribute to use in classification.\n",
    "    * amount\n",
    "        * This is the amount of money transferred (in the local currency).\n",
    "        * This can also be a pretty useful attribute to use in our classification.\n",
    "    * nameOrig\n",
    "        * This identifies the customer who initiated the transaction.\n",
    "    * oldBalanceOrg\n",
    "        * This is the initial balance before the transaction.\n",
    "    * newBalanceOrig\n",
    "        * This is the new balance after the transaction.\n",
    "    * nameDest\n",
    "        * This identifies the recipient of the transfer.\n",
    "    * oldBalanceDest\n",
    "        * This is the initial balance recipient before the transaction\n",
    "    * newBalanceDest\n",
    "        * This is the new balance recipient after the transaction.\n",
    "        * This can be a useful tool for classification when used in comparison to oldBalanceDest for any given instance.\n",
    "    * isFraud\n",
    "        * This is the transactions made by the fraudulent agents inside the simulation. In this specific dataset the fraudulent behavior of the agents aims to profit by taking control or customers accounts and try to empty the funds by transferring to another account and then cashing out of the system.\n",
    "    * isFlaggedFraud\n",
    "        * The business model aims to control massive transfers from one account to another and flags illegal attempts. An illegal attempt in this dataset is an attempt to transfer more than $200.000$ in a single transaction.\n",
    "    \n",
    "Our classification goal is to correctly predict whether any given transaction is fradulent or not."
   ]
  },
  {
   "cell_type": "markdown",
   "metadata": {},
   "source": [
    "### EDA)"
   ]
  },
  {
   "cell_type": "markdown",
   "metadata": {},
   "source": [
    "### Classification)\n",
    "\n",
    "For our classification, we began by running all of our supervised learning classifiers over our training and test sets.  Since we are trying to predict whether a given transaction is fradulent or not, that means we're dealing with binary classification. We tracked the following metrics for all classifiers to measure accuracy:\n",
    "    * Accuracy\n",
    "    * Binary F1\n",
    "    * Binary Precision\n",
    "    * Binary Recall\n",
    "\n",
    "The results (rounded to the nearest hundredth) for each classifier are as follows:\n",
    "* Linear Regressor:\n",
    "    * Accuracy: $0.47$ or $47$%\n",
    "    * Binary F1: $0.44$\n",
    "    * Binary Precision: $0.47$\n",
    "    * Binary Recall: $0.42$\n",
    "\n",
    "* Dummy Classifier:\n",
    "    * Accuracy: $0.5$\n",
    "    * Binary F1: $0$\n",
    "    * Binary Precision: $0$\n",
    "    * Binary Recall: $0$\n",
    "\n",
    "* Naive Bayes:\n",
    "    * Accuracy: $0.5$ or $50$%\n",
    "    * Binary F1: $0$\n",
    "    * Binary Precision: $0$\n",
    "    * Binary Recall: $0$\n",
    "\n",
    "* Forest Classifier:\n",
    "    * We ran our forest classifier implementation with the following settings:\n",
    "    * $1000$ weak learners\n",
    "    * $15$ better learners\n",
    "    * $4$ random attribute subsets  \n",
    "    * Our resulting accuracy was $0.78$, or $78$%.\n",
    "\n",
    "**Results**:\n",
    "* Out of all the results the Linear Regressor had highest score in all 4 categories:\n",
    "    1. Accuracy\n",
    "    1. Binary F1\n",
    "    1. Binary Precision\n",
    "    1. Binary Recall\n",
    "    \n",
    "* However, our forest classifier had the best accuracy at $78$%.  Because of this, we used it in our Heroku app."
   ]
  },
  {
   "cell_type": "markdown",
   "metadata": {},
   "source": [
    "### Conclusion)\n",
    "\n",
    "* Potential Improvements\n",
    "    * We implemented all of our ideas for improving classification in our dataset.  We believe that further improving the accuracy of our classifier would require implementing more production-style algorithms (as in more accurate sklearn implementations), which are beyond our scope.\n",
    "\n",
    "    * We did not encounter and challenges in the classification of our dataset after we achieved equal class distributions in our dataset.\n",
    "\n",
    "* Key Code Components:"
   ]
  },
  {
   "cell_type": "code",
   "execution_count": 4,
   "metadata": {},
   "outputs": [
    {
     "name": "stdout",
     "output_type": "stream",
     "text": [
      "Accuracy: 0.7813641900121803\n"
     ]
    }
   ],
   "source": [
    "importlib.reload(mypytable)\n",
    "# first we are going to import the dataset into a mypytable object\n",
    "mytable = mypytable.MyPyTable()\n",
    "mytable.load_from_file(\"input_data/Fraud_chop.csv\")\n",
    "\n",
    "# the values of type are strings, so we will convert them to ints to be able to be used in the classifiers\n",
    "mytable.convert_col_to_int('type')\n",
    "mytable.drop_cols(['step','nameOrig', 'nameDest', 'isFlaggedFraud']) # we dont need step, nameOrig, nameDest, isFlaggedFraud\n",
    "\n",
    "# we also will make x and y\n",
    "X = []\n",
    "y = []\n",
    "for row in mytable.data:\n",
    "    X.append(row[0:len(row)-1])\n",
    "    y.append(row[-1])\n",
    "\n",
    "# creating our training and test sets\n",
    "X_train_folds_indexes, X_test_folds_indexes = myevaluation.kfold_cross_validation(X,13) # 13 proved to be our most accurate # of folds\n",
    "\n",
    "X_test_folds, X_train_folds, y_test_folds, y_train_folds = myutils.indexes_to_fold(X_test_folds_indexes, X_train_folds_indexes, X, y)\n",
    "X_test, X_train, y_test, y_train = myutils.folds_to_train_test(X_test_folds, X_train_folds, y_test_folds, y_train_folds)\n",
    "\n",
    "# declare threshholds for the forest classifier\n",
    "n = 1000\n",
    "m = 15\n",
    "f = 4\n",
    "\n",
    "forest_clf = myclassifiers.MyRandomForestClassifier(random_state=100)\n",
    "forest_clf.fit(X, y, n, m, f)\n",
    "y_predicted = forest_clf.predict(X_test)\n",
    "accuracy = myevaluation.accuracy_score(y_test, y_predicted)\n",
    "print(\"Accuracy:\", accuracy)"
   ]
  },
  {
   "cell_type": "markdown",
   "metadata": {},
   "source": [
    "* Contributions\n",
    "    * Ben handled our classification and evaluation\n",
    "    * Sam handled our EDA and bringing our work into both the presentation and final report.\n",
    "* Sources:\n",
    "    * Dataset:\n",
    "        * https://www.kaggle.com/datasets/vardhansiramdasu/fraudulent-transactions-prediction?resource=download\n",
    "    * Images:\n",
    "        * https://www.1800homecare.com/homecare/elderly-scams/\n",
    "\n",
    "    "
   ]
  }
 ],
 "metadata": {
  "interpreter": {
   "hash": "d4d1e4263499bec80672ea0156c357c1ee493ec2b1c70f0acce89fc37c4a6abe"
  },
  "kernelspec": {
   "display_name": "Python 3.9.12 ('base')",
   "language": "python",
   "name": "python3"
  },
  "language_info": {
   "codemirror_mode": {
    "name": "ipython",
    "version": 3
   },
   "file_extension": ".py",
   "mimetype": "text/x-python",
   "name": "python",
   "nbconvert_exporter": "python",
   "pygments_lexer": "ipython3",
   "version": "3.9.7"
  },
  "orig_nbformat": 4
 },
 "nbformat": 4,
 "nbformat_minor": 2
}
