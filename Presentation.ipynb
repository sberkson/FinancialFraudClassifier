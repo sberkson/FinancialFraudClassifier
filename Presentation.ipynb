{
 "cells": [
  {
   "cell_type": "markdown",
   "metadata": {},
   "source": [
    "## Financial Fraud Classifier\n",
    "#### Sam Berkson and Ben Puryear\n",
    "#### CPSC 322 Final Project"
   ]
  },
  {
   "cell_type": "code",
   "execution_count": 2,
   "metadata": {},
   "outputs": [],
   "source": [
    "from mysklearn import myclassifiers, myevaluation, mypytable, myutils\n",
    "import importlib"
   ]
  },
  {
   "cell_type": "markdown",
   "metadata": {},
   "source": [
    "### Introduction)  \n",
    "\n",
    "* Why are we doing this in the first place?\n",
    "    * The potential impact of our results are pretty intuitive.  Automated fraud detection systems have massive applications for both businesses as well as financial institutions.  A system like this could be used to stop fradulent activies, and help identify the perpetrators of financial crimes.  A system like ours would likely affect the following stakeholders:\n",
    "    * Consumers\n",
    "        * Consumer's financial assets gain increased security, and helps to increase trust in modern financial institutions which can help stimulate economic growth.\n",
    "    * Businesses\n",
    "        * Businesses can save needless expense by ensuring that they are not the victims of fradulent transactions out of company accounts, or the victims of fradulent orders.\n",
    "    * Financial Institutions\n",
    "        * Banks can automate the task of consumer protection, allowing them greater resources to pursue recovery of funds through all available avenues.\n",
    "    * Regulatory Agencies\n",
    "        * Regulatory agencies can work with financial institutions to share identifying information regarding fradulent transactions, and use this information to pursue recovery of funds through a variety of methods.  One cool method is through appoint a receiver to recover and equitably dispense recovered funds among secured and unsecured creditors, which Sam just so happens to do for work over the summer!\n",
    "    * Financial Criminals\n",
    "        * This gang isnt so lucky.  Criminals only gain determent from committing felonies and robbing consumers and instituions of their assets.\n",
    "\n",
    "    * Personal interest:\n",
    "        * Sam works with financial fraud on a daily basis for work\n",
    "\n",
    "![image](media/saftey.jpeg)\n",
    "\n",
    "* Dataset\n",
    "    * Our dataset originates from Kaggle, coming packaged as a csv file.  This csv file contains just over a million instances of different types of financial transactions from different accounts, and marks whether or not the transaction was flagged as fradulent or not, and whether or not the transaction was actually fradulent.  Our dataset contains 11 attributes:\n",
    " \n",
    "    * step\n",
    "        * Step maps to a number of hours, where 1 step is 1 hour\n",
    "     * type\n",
    "        * This identifies the type of transaction.  It can be: CASH-IN; CASH-OUT; DEBIT; PAYMENT; and TRANSFER.\n",
    "        * This could be a pretty useful attribute to use in classification.\n",
    "    * amount\n",
    "        * This is the amount of money transferred (in the local currency).\n",
    "        * This can also be a pretty useful attribute to use in our classification.\n",
    "    * nameOrig\n",
    "        * This identifies the customer who initiated the transaction.\n",
    "    * oldBalanceOrg\n",
    "        * This is the initial balance before the transaction.\n",
    "    * newBalanceOrig\n",
    "        * This is the new balance after the transaction.\n",
    "    * nameDest\\n\",\n",
    "        * This identifies the recipient of the transfer.\n",
    "    * oldBalanceDest\n",
    "        * This is the initial balance recipient before the transaction\n",
    "    * newBalanceDest\n",
    "        * This is the new balance recipient after the transaction.\n",
    "        * This can be a useful tool for classification when used in comparison to oldBalanceDest for any given instance.\n",
    "    * isFraud\n",
    "        * This is the transactions made by the fraudulent agents inside the simulation. In this specific dataset the fraudulent behavior of the agents aims to profit by taking control or customers accounts and try to empty the funds by transferring to another account and then cashing out of the system.\n",
    "    * isFlaggedFraud\n",
    "        * The business model aims to control massive transfers from one account to another and flags illegal attempts. An illegal attempt in this dataset is an attempt to transfer more than 200.000 in a single transaction.\n",
    "    \n",
    "Our classification goal is to correctly predict whether any given transaction is fradulent or not."
   ]
  },
  {
   "cell_type": "markdown",
   "metadata": {},
   "source": [
    "### EDA)"
   ]
  },
  {
   "cell_type": "markdown",
   "metadata": {},
   "source": [
    "### Classification)"
   ]
  },
  {
   "cell_type": "markdown",
   "metadata": {},
   "source": [
    "### Conclusion)"
   ]
  }
 ],
 "metadata": {
  "interpreter": {
   "hash": "d4d1e4263499bec80672ea0156c357c1ee493ec2b1c70f0acce89fc37c4a6abe"
  },
  "kernelspec": {
   "display_name": "Python 3.9.12 ('base')",
   "language": "python",
   "name": "python3"
  },
  "language_info": {
   "codemirror_mode": {
    "name": "ipython",
    "version": 3
   },
   "file_extension": ".py",
   "mimetype": "text/x-python",
   "name": "python",
   "nbconvert_exporter": "python",
   "pygments_lexer": "ipython3",
   "version": "3.9.7"
  },
  "orig_nbformat": 4
 },
 "nbformat": 4,
 "nbformat_minor": 2
}
