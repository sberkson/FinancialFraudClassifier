{
 "cells": [
  {
   "cell_type": "markdown",
   "metadata": {},
   "source": [
    "## Financial Fraud Classifier\n",
    "#### Sam Berkson and Ben Puryear\n",
    "#### CPSC 322 Final Project"
   ]
  },
  {
   "cell_type": "code",
   "execution_count": 11,
   "metadata": {},
   "outputs": [],
   "source": [
    "from mysklearn import myclassifiers, myevaluation, mypytable, myutils\n",
    "import importlib\n",
    "\n",
    "# set up the data for later usage\n",
    "importlib.reload(mypytable)\n",
    "\n",
    "# first we are going to import the dataset into a mypytable object\n",
    "mytable = mypytable.MyPyTable()\n",
    "mytable.load_from_file(\"input_data/Fraud_chop.csv\")\n",
    "\n",
    "# the values of type are strings, so we will convert them to ints to be able to be used in the classifiers\n",
    "mytable.convert_col_to_int('type')\n",
    "mytable.convert_col_to_int('amount')\n",
    "mytable.drop_cols(['step','nameOrig', 'nameDest']) # we dont need step, nameOrig, nameDest, isFlaggedFraud"
   ]
  },
  {
   "cell_type": "markdown",
   "metadata": {},
   "source": [
    "### Introduction)  \n",
    "\n",
    "* Dataset\n",
    "    * Our dataset originates from Kaggle, coming packaged as a csv file.  This csv file contains just over a million instances of different types of financial transactions from different accounts, and marks whether or not the transaction was flagged as fradulent or not, and whether or not the transaction was actually fradulent.  Our dataset contains 11 attributes:\n",
    "    * step\n",
    "        * Step maps to a number of hours, where 1 step is 1 hour\n",
    "     * type\n",
    "        * This identifies the type of transaction.  It can be: CASH-IN; CASH-OUT; DEBIT; PAYMENT; and TRANSFER.\n",
    "        * This could be a pretty useful attribute to use in classification.\n",
    "    * amount\n",
    "        * This is the amount of money transferred (in the local currency).\n",
    "        * This can also be a pretty useful attribute to use in our classification.\n",
    "    * nameOrig\n",
    "        * This identifies the customer who initiated the transaction.\n",
    "    * oldBalanceOrg\n",
    "        * This is the initial balance before the transaction.\n",
    "    * newBalanceOrig\n",
    "        * This is the new balance after the transaction.\n",
    "    * nameDest\n",
    "        * This identifies the recipient of the transfer.\n",
    "    * oldBalanceDest\n",
    "        * This is the initial balance recipient before the transaction\n",
    "    * newBalanceDest\n",
    "        * This is the new balance recipient after the transaction.\n",
    "        * This can be a useful tool for classification when used in comparison to oldBalanceDest for any given instance.\n",
    "    * isFraud\n",
    "        * This is the transactions made by the fraudulent agents inside the simulation. In this specific dataset the fraudulent behavior of the agents aims to profit by taking control or customers accounts and try to empty the funds by transferring to another account and then cashing out of the system.\n",
    "    * isFlaggedFraud\n",
    "        * The business model aims to control massive transfers from one account to another and flags illegal attempts. An illegal attempt in this dataset is an attempt to transfer more than $200.000$ in a single transaction.\n",
    "    \n",
    "Our classification goal is to correctly predict whether any given transaction is fradulent or not (our class label is 'isFraud')"
   ]
  },
  {
   "cell_type": "markdown",
   "metadata": {},
   "source": [
    "### EDA)\n",
    "While we wont go over all of our EDA results, here are the cliffnotes and some interesting finds.\n",
    "\n",
    "__Attribute Distributions__\n",
    "\n",
    "* type\n",
    "\n",
    "![image](media/Transaction_Type_Distribution.jpeg) \n",
    "    \n",
    "* isFraud\n",
    "\n",
    "![image](media/Fradulent_Transaction_Distribution.jpeg)\n",
    "\n",
    "\n",
    "__Attribute Relationships__\n",
    "\n",
    "* oldBalanceOrg and newBalanceOrig\n",
    "    * slope: $.6599$, just about $2/3$\n",
    "\n",
    "![image](media/Old_Balance_v_New_Balance.jpeg)\n",
    "\n",
    "* type and isFraud\n",
    "\n",
    "![image](media/Fraudulent_Transaction_Types_Distribution.jpeg)\n",
    "![image](media/Non-Fraudulent_Transaction_Types_Distribution.jpeg)\n",
    "\n",
    "* type and isFlaggedFraud\n",
    "\n",
    "![image](media/Fraudulent_Transaction_Types_Flagged_Distribution.jpeg)\n",
    "![image](media/Non-Fraudulent_Transaction_Types_Flagged_Distribution.jpeg)"
   ]
  },
  {
   "cell_type": "code",
   "execution_count": 12,
   "metadata": {},
   "outputs": [
    {
     "name": "stdout",
     "output_type": "stream",
     "text": [
      "Average original balance: 833508.1312484784\n",
      "Average new balance: 1304552.5530755178\n",
      "Average difference: $ -471044.42182703933\n"
     ]
    }
   ],
   "source": [
    "oldBalanceDest = mytable.get_column('oldbalanceDest')\n",
    "newBalanceDest = mytable.get_column('newbalanceDest')\n",
    "amount = mytable.get_column('amount')\n",
    "\n",
    "avgOrgBalance = sum(oldBalanceDest)/len(oldBalanceDest)\n",
    "avgNewBalance = sum(newBalanceDest)/len(newBalanceDest)\n",
    "difference = avgOrgBalance - avgNewBalance\n",
    "avgTransfer = sum(amount)/len(amount)\n",
    "\n",
    "print(\"Average original balance:\", avgOrgBalance)\n",
    "print(\"Average new balance:\", avgNewBalance)\n",
    "print(\"Average difference: $\", difference)"
   ]
  },
  {
   "cell_type": "code",
   "execution_count": 13,
   "metadata": {},
   "outputs": [
    {
     "name": "stdout",
     "output_type": "stream",
     "text": [
      "Number of instances:  1642\n",
      "Number of fraudulent transactions: 821\n",
      "Number of non-fraudulent transactions: 821\n",
      "Number of fraudulent transactions flagged: 3\n",
      "Number of non-fraudulent transactions flagged: 1639\n",
      "Number of transaction types: 5\n",
      "Percentage of instances flagged as fradulent:  0.18270401948842874 %\n",
      "Number of instances correctly predicted:  824\n",
      "Number of instances incorrectly predicted:  818\n",
      "Accuracy:  50.18270401948843\n"
     ]
    }
   ],
   "source": [
    "isFlaggedFraud = mytable.get_column('isFlaggedFraud')\n",
    "isFraud = mytable.get_column(\"isFraud\")\n",
    "\n",
    "isFlaggedFraudT = 0\n",
    "isFlaggedFraudF = 0\n",
    "isFraudT = 0\n",
    "isFraudF = 0\n",
    "correctlyPredicted = 0\n",
    "incorrectlyPredicted = 0\n",
    "\n",
    "for index, value in enumerate(isFlaggedFraud):\n",
    "    if isFlaggedFraud[index] == 1:\n",
    "        isFlaggedFraudT += 1\n",
    "    else:\n",
    "        isFlaggedFraudF += 1\n",
    "        \n",
    "    if isFraud[index] == 1:\n",
    "        isFraudT += 1\n",
    "    else:\n",
    "        isFraudF += 1\n",
    "\n",
    "    if isFlaggedFraud[index] == 1 and isFraud[index] == 1:\n",
    "        correctlyPredicted += 1\n",
    "    elif isFlaggedFraud[index] == 0 and isFraud[index] == 0:\n",
    "        correctlyPredicted += 1\n",
    "    else:\n",
    "        incorrectlyPredicted += 1\n",
    "\n",
    "flagPercentage = (100 / 1642) * isFlaggedFraudT    \n",
    "print(\"Number of instances: \", isFraudT + isFraudF)\n",
    "print(\"Number of fraudulent transactions:\", isFraudT)\n",
    "print(\"Number of non-fraudulent transactions:\", isFraudF)\n",
    "print(\"Number of fraudulent transactions flagged:\", isFlaggedFraudT)\n",
    "print(\"Number of non-fraudulent transactions flagged:\", isFlaggedFraudF)\n",
    "print(\"Number of transaction types:\", 5)\n",
    "print(\"Percentage of instances flagged as fradulent: \", str(flagPercentage) + \" %\")\n",
    "print(\"Number of instances correctly predicted: \", correctlyPredicted)\n",
    "print(\"Number of instances incorrectly predicted: \", incorrectlyPredicted)\n",
    "print(\"Accuracy: \", (100 / 1642) * correctlyPredicted)"
   ]
  },
  {
   "cell_type": "markdown",
   "metadata": {},
   "source": [
    "We will need a classifier accuracy greater than 50.2% in order to surpass the dataset's classifier."
   ]
  },
  {
   "cell_type": "markdown",
   "metadata": {},
   "source": [
    "### Classification)\n",
    "\n",
    "For our classification, we began by running all of our supervised learning classifiers over our training and test sets.  We then took our $4$ best performing classifiers: \n",
    "* Linear Regression \n",
    "* Dummy Clasifier \n",
    "* Naive Bayes \n",
    "* Forest Classifier.  \n",
    "\n",
    "Since we are trying to predict whether a given transaction is fradulent or not, that means we're dealing with binary classification. We tracked the following metrics to measure the performance of our classifiers and decide which classifier to build into our Heroku app:\n",
    "* Accuracy\n",
    "* Binary F1\n",
    "* Binary Precision\n",
    "* Binary Recall\n",
    "\n",
    "The results (rounded to the nearest hundredth) for each classifier are as follows:\n",
    "* Linear Regressor:\n",
    "    * Accuracy: $0.47$ or $47$%\n",
    "    * Binary F1: $0.44$\n",
    "    * Binary Precision: $0.47$\n",
    "    * Binary Recall: $0.42$\n",
    "\n",
    "* Dummy Classifier:\n",
    "    * Accuracy: $0.5$\n",
    "    * Binary F1: $0$\n",
    "    * Binary Precision: $0$\n",
    "    * Binary Recall: $0$\n",
    "\n",
    "* Naive Bayes:\n",
    "    * Accuracy: $0.5$ or $50$%\n",
    "    * Binary F1: $0$\n",
    "    * Binary Precision: $0$\n",
    "    * Binary Recall: $0$\n",
    "\n",
    "* Forest Classifier:\n",
    "    * We ran our forest classifier implementation with the following settings:\n",
    "    * $1000$ weak learners\n",
    "    * $15$ better learners\n",
    "    * $4$ random attribute subsets  \n",
    "    * Accuracy: $0.7813641900121803$\n",
    "    * Binary F1: $0.7201870615744349$\n",
    "    * Binary precision: $1.0$\n",
    "    * Binary recall: $0.5627283800243605$\n",
    "\n",
    "**Results**:\n",
    "* The Random Forest classifier was the best in every category, which is why we used it in our Heroku App\n",
    "\n",
    "* Our forest classifier also surpasses the dataset's classifier accuracy of $50.18$%.  Pretty neat!"
   ]
  },
  {
   "cell_type": "markdown",
   "metadata": {},
   "source": [
    "### Conclusion)\n",
    "\n",
    "* Potential Improvements\n",
    "    * We implemented all of our ideas for improving classification in our dataset.  On the algorithm side of things, we believe we have created the best Forest Classifier we can. \n",
    "    * Some potential improvements might involve toying more with attribute selection, and exploring other relationships between attributes that could be useful in classification.  \n",
    "\n",
    "* Since our dataset came completely pre-cleaned and ready to roll, there wasnt a whole lot we had to do with the dataset other than load it in and start working with it.  Since it is binary classification and contains 11 informative attributes, this did not create many issues for classification beyond trying to get our implementation working.  We did not encounter and challenges in the classification of our dataset after we achieved equal class distributions in our dataset.\n",
    "\n",
    "* After we achieved an equal class distribution, all that was left was to plug our dataset into our random subsampling functions and interpret the results.  When we saw our Forest Classifier's performance, we knew that it was our best classificationt tool and decided to use it as our Heroku model, as well as our feature classification method for the whole project.\n"
   ]
  },
  {
   "cell_type": "markdown",
   "metadata": {},
   "source": [
    "* Contributions\n",
    "    * Ben handled our classification and classifier evaluation and the Heroku site.  \n",
    "    * Sam handled our project proposal, EDA, and compilation of resources into our presentation and report.\n"
   ]
  },
  {
   "cell_type": "markdown",
   "metadata": {},
   "source": [
    "* Sources:\n",
    "    * Dataset:\n",
    "        * https://www.kaggle.com/datasets/vardhansiramdasu/fraudulent-transactions-prediction?resource=download\n",
    "    * Images:\n",
    "        * https://www.istockphoto.com/illustrations/elder-fraud\n",
    "\n",
    "    "
   ]
  }
 ],
 "metadata": {
  "interpreter": {
   "hash": "d4d1e4263499bec80672ea0156c357c1ee493ec2b1c70f0acce89fc37c4a6abe"
  },
  "kernelspec": {
   "display_name": "Python 3.9.12 ('base')",
   "language": "python",
   "name": "python3"
  },
  "language_info": {
   "codemirror_mode": {
    "name": "ipython",
    "version": 3
   },
   "file_extension": ".py",
   "mimetype": "text/x-python",
   "name": "python",
   "nbconvert_exporter": "python",
   "pygments_lexer": "ipython3",
   "version": "3.9.7"
  },
  "orig_nbformat": 4
 },
 "nbformat": 4,
 "nbformat_minor": 2
}
